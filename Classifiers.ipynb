{
  "nbformat": 4,
  "nbformat_minor": 0,
  "metadata": {
    "colab": {
      "name": "Classifiers.ipynb",
      "provenance": [],
      "collapsed_sections": []
    },
    "kernelspec": {
      "name": "python3",
      "display_name": "Python 3"
    }
  },
  "cells": [
    {
      "cell_type": "markdown",
      "metadata": {
        "id": "yf69yg5Ro8N3",
        "colab_type": "text"
      },
      "source": [
        "Classfiers"
      ]
    },
    {
      "cell_type": "code",
      "metadata": {
        "id": "zJw-HA68o_IW",
        "colab_type": "code",
        "colab": {}
      },
      "source": [
        "# import library\n",
        "import pandas as pd \n",
        "import numpy as np"
      ],
      "execution_count": 0,
      "outputs": []
    },
    {
      "cell_type": "code",
      "metadata": {
        "id": "_bDTHn4OpDOa",
        "colab_type": "code",
        "colab": {
          "base_uri": "https://localhost:8080/",
          "height": 204
        },
        "outputId": "0b1ff143-456f-45e7-c7b7-fd265699776b"
      },
      "source": [
        "# load data\n",
        "dataset = pd.read_csv('bill_authentication.csv')\n",
        "dataset.head()"
      ],
      "execution_count": 6,
      "outputs": [
        {
          "output_type": "execute_result",
          "data": {
            "text/html": [
              "<div>\n",
              "<style scoped>\n",
              "    .dataframe tbody tr th:only-of-type {\n",
              "        vertical-align: middle;\n",
              "    }\n",
              "\n",
              "    .dataframe tbody tr th {\n",
              "        vertical-align: top;\n",
              "    }\n",
              "\n",
              "    .dataframe thead th {\n",
              "        text-align: right;\n",
              "    }\n",
              "</style>\n",
              "<table border=\"1\" class=\"dataframe\">\n",
              "  <thead>\n",
              "    <tr style=\"text-align: right;\">\n",
              "      <th></th>\n",
              "      <th>Variance</th>\n",
              "      <th>Skewness</th>\n",
              "      <th>Curtosis</th>\n",
              "      <th>Entropy</th>\n",
              "      <th>Class</th>\n",
              "    </tr>\n",
              "  </thead>\n",
              "  <tbody>\n",
              "    <tr>\n",
              "      <th>0</th>\n",
              "      <td>3.62160</td>\n",
              "      <td>8.6661</td>\n",
              "      <td>-2.8073</td>\n",
              "      <td>-0.44699</td>\n",
              "      <td>0</td>\n",
              "    </tr>\n",
              "    <tr>\n",
              "      <th>1</th>\n",
              "      <td>4.54590</td>\n",
              "      <td>8.1674</td>\n",
              "      <td>-2.4586</td>\n",
              "      <td>-1.46210</td>\n",
              "      <td>0</td>\n",
              "    </tr>\n",
              "    <tr>\n",
              "      <th>2</th>\n",
              "      <td>3.86600</td>\n",
              "      <td>-2.6383</td>\n",
              "      <td>1.9242</td>\n",
              "      <td>0.10645</td>\n",
              "      <td>0</td>\n",
              "    </tr>\n",
              "    <tr>\n",
              "      <th>3</th>\n",
              "      <td>3.45660</td>\n",
              "      <td>9.5228</td>\n",
              "      <td>-4.0112</td>\n",
              "      <td>-3.59440</td>\n",
              "      <td>0</td>\n",
              "    </tr>\n",
              "    <tr>\n",
              "      <th>4</th>\n",
              "      <td>0.32924</td>\n",
              "      <td>-4.4552</td>\n",
              "      <td>4.5718</td>\n",
              "      <td>-0.98880</td>\n",
              "      <td>0</td>\n",
              "    </tr>\n",
              "  </tbody>\n",
              "</table>\n",
              "</div>"
            ],
            "text/plain": [
              "   Variance  Skewness  Curtosis  Entropy  Class\n",
              "0   3.62160    8.6661   -2.8073 -0.44699      0\n",
              "1   4.54590    8.1674   -2.4586 -1.46210      0\n",
              "2   3.86600   -2.6383    1.9242  0.10645      0\n",
              "3   3.45660    9.5228   -4.0112 -3.59440      0\n",
              "4   0.32924   -4.4552    4.5718 -0.98880      0"
            ]
          },
          "metadata": {
            "tags": []
          },
          "execution_count": 6
        }
      ]
    },
    {
      "cell_type": "code",
      "metadata": {
        "id": "pq2h__1kqU-N",
        "colab_type": "code",
        "colab": {}
      },
      "source": [
        "# split data\n",
        "from sklearn.model_selection import train_test_split\n",
        "\n",
        "X = dataset.iloc[:, 0:4]\n",
        "y = dataset.iloc[:, 4]\n",
        "\n",
        "# split data into X_train, X_test, y_train, y_test\n",
        "X_train, X_test, y_train, y_test = train_test_split(X, y, test_size=0.3, random_state=0)"
      ],
      "execution_count": 0,
      "outputs": []
    },
    {
      "cell_type": "code",
      "metadata": {
        "id": "4yRZbN-VrsQy",
        "colab_type": "code",
        "colab": {}
      },
      "source": [
        "# feature scalling\n",
        "from sklearn.preprocessing import StandardScaler\n",
        "\n",
        "sc = StandardScaler()\n",
        "X_train = sc.fit_transform(X_train)\n",
        "X_test = sc.fit_transform(X_test)"
      ],
      "execution_count": 0,
      "outputs": []
    },
    {
      "cell_type": "markdown",
      "metadata": {
        "id": "PyxDe07Crz1U",
        "colab_type": "text"
      },
      "source": [
        "**2  Logistic Regression**"
      ]
    },
    {
      "cell_type": "code",
      "metadata": {
        "id": "kKFpenXYr3IE",
        "colab_type": "code",
        "colab": {
          "base_uri": "https://localhost:8080/",
          "height": 51
        },
        "outputId": "c6575260-57c8-487d-9dd6-54197802c56b"
      },
      "source": [
        "# import library \n",
        "from sklearn.linear_model import LogisticRegression\n",
        "\n",
        "# create variable of Algoithm\n",
        "logistic_c = LogisticRegression()\n",
        "\n",
        "# fit model\n",
        "logistic_c.fit(X_train, y_train)\n",
        "\n",
        "# prediction model\n",
        "y_pred = logistic_c.predict(X_test)\n",
        "\n",
        "# evalute prediction\n",
        "from sklearn.metrics import confusion_matrix\n",
        "from sklearn.metrics import accuracy_score\n",
        "cm = confusion_matrix(y_test, y_pred)\n",
        "accuracy = accuracy_score(y_test, y_pred)\n",
        "accuracy, cm"
      ],
      "execution_count": 9,
      "outputs": [
        {
          "output_type": "execute_result",
          "data": {
            "text/plain": [
              "(0.9830097087378641, array([[225,   7],\n",
              "        [  0, 180]]))"
            ]
          },
          "metadata": {
            "tags": []
          },
          "execution_count": 9
        }
      ]
    },
    {
      "cell_type": "markdown",
      "metadata": {
        "id": "6igth8vur-6U",
        "colab_type": "text"
      },
      "source": [
        "**3  DecisionTree Classifier**"
      ]
    },
    {
      "cell_type": "code",
      "metadata": {
        "id": "MnKZgbLHr57H",
        "colab_type": "code",
        "colab": {
          "base_uri": "https://localhost:8080/",
          "height": 51
        },
        "outputId": "4d0f73bb-0168-4f57-aa12-651ba209b8ca"
      },
      "source": [
        "# import library \n",
        "from sklearn.ensemble import GradientBoostingClassifier\n",
        "\n",
        "# create variable of Algoithm\n",
        "gb_c = GradientBoostingClassifier()\n",
        "\n",
        "# fit model\n",
        "gb_c.fit(X_train, y_train)\n",
        "\n",
        "# prediction model\n",
        "y_pred = gb_c.predict(X_test)\n",
        "\n",
        "# evalute prediction\n",
        "from sklearn.metrics import confusion_matrix\n",
        "from sklearn.metrics import accuracy_score\n",
        "cm = confusion_matrix(y_test, y_pred)\n",
        "accuracy = accuracy_score(y_test, y_pred)\n",
        "accuracy, cm"
      ],
      "execution_count": 10,
      "outputs": [
        {
          "output_type": "execute_result",
          "data": {
            "text/plain": [
              "(0.9902912621359223, array([[229,   3],\n",
              "        [  1, 179]]))"
            ]
          },
          "metadata": {
            "tags": []
          },
          "execution_count": 10
        }
      ]
    },
    {
      "cell_type": "markdown",
      "metadata": {
        "id": "dI-vH3yzsLoX",
        "colab_type": "text"
      },
      "source": [
        "**4  KNeighbors Classifier**"
      ]
    },
    {
      "cell_type": "code",
      "metadata": {
        "id": "CoDmPeCYsFDx",
        "colab_type": "code",
        "colab": {
          "base_uri": "https://localhost:8080/",
          "height": 51
        },
        "outputId": "daa3162d-270c-410f-936f-e1d6809556da"
      },
      "source": [
        "# import library \n",
        "from sklearn.neighbors import KNeighborsClassifier\n",
        "\n",
        "# create variable of Algoithm\n",
        "knn_c = KNeighborsClassifier(n_neighbors=10)\n",
        "\n",
        "# fit model\n",
        "knn_c.fit(X_train, y_train)\n",
        "\n",
        "# prediction model\n",
        "y_pred = knn_c.predict(X_test)\n",
        "\n",
        "# evalute prediction\n",
        "from sklearn.metrics import confusion_matrix\n",
        "from sklearn.metrics import accuracy_score\n",
        "cm = confusion_matrix(y_test, y_pred)\n",
        "accuracy = accuracy_score(y_test, y_pred)\n",
        "accuracy, cm"
      ],
      "execution_count": 11,
      "outputs": [
        {
          "output_type": "execute_result",
          "data": {
            "text/plain": [
              "(0.9975728155339806, array([[231,   1],\n",
              "        [  0, 180]]))"
            ]
          },
          "metadata": {
            "tags": []
          },
          "execution_count": 11
        }
      ]
    },
    {
      "cell_type": "markdown",
      "metadata": {
        "id": "gg8aHueCsVqk",
        "colab_type": "text"
      },
      "source": [
        "**5  SVM Classifier**"
      ]
    },
    {
      "cell_type": "code",
      "metadata": {
        "id": "eX2mvBjmsR46",
        "colab_type": "code",
        "colab": {
          "base_uri": "https://localhost:8080/",
          "height": 51
        },
        "outputId": "9f9fa28c-4ca4-4a9f-e70e-6cc1c0e46a9a"
      },
      "source": [
        "# import library \n",
        "from sklearn import svm\n",
        "\n",
        "# create variable of Algoithm\n",
        "svm_c = svm.LinearSVC(random_state=20)\n",
        "\n",
        "# fit model\n",
        "svm_c.fit(X_train, y_train)\n",
        "\n",
        "# prediction model\n",
        "y_pred = svm_c.predict(X_test)\n",
        "\n",
        "# evalute prediction\n",
        "from sklearn.metrics import confusion_matrix\n",
        "from sklearn.metrics import accuracy_score\n",
        "cm = confusion_matrix(y_test, y_pred)\n",
        "accuracy = accuracy_score(y_test, y_pred)\n",
        "accuracy, cm"
      ],
      "execution_count": 12,
      "outputs": [
        {
          "output_type": "execute_result",
          "data": {
            "text/plain": [
              "(0.9854368932038835, array([[226,   6],\n",
              "        [  0, 180]]))"
            ]
          },
          "metadata": {
            "tags": []
          },
          "execution_count": 12
        }
      ]
    },
    {
      "cell_type": "markdown",
      "metadata": {
        "id": "A0ucYuvStaf_",
        "colab_type": "text"
      },
      "source": [
        "**6  Naive Bayes**"
      ]
    },
    {
      "cell_type": "code",
      "metadata": {
        "id": "iXtQnSPhteij",
        "colab_type": "code",
        "colab": {
          "base_uri": "https://localhost:8080/",
          "height": 51
        },
        "outputId": "00e5fad3-627f-4181-df7f-1f5ff47e98ba"
      },
      "source": [
        "# import library \n",
        "from sklearn.naive_bayes import GaussianNB\n",
        "\n",
        "# create variable of Algoithm\n",
        "nb_c = GaussianNB()\n",
        "\n",
        "# fit model\n",
        "nb_c.fit(X_train, y_train)\n",
        "\n",
        "# prediction model\n",
        "y_pred = nb_c.predict(X_test)\n",
        "\n",
        "# evalute prediction\n",
        "from sklearn.metrics import confusion_matrix\n",
        "from sklearn.metrics import accuracy_score\n",
        "cm = confusion_matrix(y_test, y_pred)\n",
        "accuracy = accuracy_score(y_test, y_pred)\n",
        "accuracy, cm"
      ],
      "execution_count": 13,
      "outputs": [
        {
          "output_type": "execute_result",
          "data": {
            "text/plain": [
              "(0.8349514563106796, array([[198,  34],\n",
              "        [ 34, 146]]))"
            ]
          },
          "metadata": {
            "tags": []
          },
          "execution_count": 13
        }
      ]
    },
    {
      "cell_type": "markdown",
      "metadata": {
        "id": "g0L8HhINtmhu",
        "colab_type": "text"
      },
      "source": [
        "**RendomForest Classifier**"
      ]
    },
    {
      "cell_type": "code",
      "metadata": {
        "id": "5EneihC3tvz6",
        "colab_type": "code",
        "colab": {
          "base_uri": "https://localhost:8080/",
          "height": 51
        },
        "outputId": "b3b8af4c-f951-4f3b-9cfe-2519a97171a2"
      },
      "source": [
        "# import library \n",
        "from sklearn.ensemble import RandomForestClassifier\n",
        "\n",
        "# create variable of Algoithm\n",
        "rf_c = RandomForestClassifier()\n",
        "\n",
        "# fit model\n",
        "rf_c.fit(X_train, y_train)\n",
        "\n",
        "# prediction model\n",
        "y_pred = rf_c.predict(X_test)\n",
        "\n",
        "# evalute prediction\n",
        "from sklearn.metrics import confusion_matrix\n",
        "from sklearn.metrics import accuracy_score\n",
        "cm = confusion_matrix(y_test, y_pred)\n",
        "accuracy = accuracy_score(y_test, y_pred)\n",
        "accuracy, cm"
      ],
      "execution_count": 16,
      "outputs": [
        {
          "output_type": "execute_result",
          "data": {
            "text/plain": [
              "(0.9854368932038835, array([[227,   5],\n",
              "        [  1, 179]]))"
            ]
          },
          "metadata": {
            "tags": []
          },
          "execution_count": 16
        }
      ]
    },
    {
      "cell_type": "markdown",
      "metadata": {
        "id": "nLkr3ybduPhM",
        "colab_type": "text"
      },
      "source": [
        "**7  XGB Classifier**"
      ]
    },
    {
      "cell_type": "code",
      "metadata": {
        "id": "IUxf56C8uRch",
        "colab_type": "code",
        "colab": {
          "base_uri": "https://localhost:8080/",
          "height": 51
        },
        "outputId": "19b9be3d-6e51-4f7d-e47a-167e95e82317"
      },
      "source": [
        "# import library \n",
        "from xgboost import XGBClassifier\n",
        "\n",
        "# create variable of Algoithm\n",
        "xgb_c = XGBClassifier()\n",
        "\n",
        "# fit model\n",
        "xgb_c.fit(X_train, y_train)\n",
        "\n",
        "# prediction model\n",
        "y_pred = xgb_c.predict(X_test)\n",
        "\n",
        "# evalute prediction\n",
        "from sklearn.metrics import confusion_matrix\n",
        "from sklearn.metrics import accuracy_score\n",
        "cm = confusion_matrix(y_test, y_pred)\n",
        "accuracy = accuracy_score(y_test, y_pred)\n",
        "accuracy, cm"
      ],
      "execution_count": 17,
      "outputs": [
        {
          "output_type": "execute_result",
          "data": {
            "text/plain": [
              "(0.9951456310679612, array([[231,   1],\n",
              "        [  1, 179]]))"
            ]
          },
          "metadata": {
            "tags": []
          },
          "execution_count": 17
        }
      ]
    },
    {
      "cell_type": "markdown",
      "metadata": {
        "id": "uQqMnx2duW3_",
        "colab_type": "text"
      },
      "source": [
        "**Neural Network using Keras for Classification**"
      ]
    },
    {
      "cell_type": "code",
      "metadata": {
        "id": "NaVEgEa_uTVV",
        "colab_type": "code",
        "colab": {
          "base_uri": "https://localhost:8080/",
          "height": 221
        },
        "outputId": "e50dc035-d92f-40ad-c21b-cf15006abd2a"
      },
      "source": [
        "import keras\n",
        "from keras.models import Sequential\n",
        "from keras.layers import Dense\n",
        "\n",
        "classifier = Sequential()\n",
        "#First Hidden Layer\n",
        "classifier.add(Dense(4, activation='relu', kernel_initializer='random_normal', input_dim=4))\n",
        "#Second Hidden Layer\n",
        "classifier.add(Dense(4, activation='relu', kernel_initializer='random_normal'))\n",
        "#Output Layer\n",
        "classifier.add(Dense(1, activation='sigmoid', kernel_initializer='random_normal'))\n",
        "#Compiling the neural network\n",
        "classifier.compile(optimizer ='adam',loss='binary_crossentropy', metrics =['accuracy'])\n",
        "classifier.fit(X_train,y_train, batch_size=10,epochs=5)\n",
        "# eval_model=classifier.evaluate(X_train, y_train)\n",
        "y_pred=classifier.predict(X_test)\n",
        "y_pred =(y_pred>0.5)\n",
        "cm = confusion_matrix(y_test, y_pred)\n",
        "accuracy=accuracy_score(y_test,y_pred)\n",
        "accuracy, cm\n"
      ],
      "execution_count": 20,
      "outputs": [
        {
          "output_type": "stream",
          "text": [
            "Epoch 1/5\n",
            "960/960 [==============================] - 0s 206us/step - loss: 0.6909 - accuracy: 0.5521\n",
            "Epoch 2/5\n",
            "960/960 [==============================] - 0s 107us/step - loss: 0.6643 - accuracy: 0.7458\n",
            "Epoch 3/5\n",
            "960/960 [==============================] - 0s 104us/step - loss: 0.5672 - accuracy: 0.9271\n",
            "Epoch 4/5\n",
            "960/960 [==============================] - 0s 103us/step - loss: 0.4178 - accuracy: 0.9521\n",
            "Epoch 5/5\n",
            "960/960 [==============================] - 0s 101us/step - loss: 0.2838 - accuracy: 0.9625\n"
          ],
          "name": "stdout"
        },
        {
          "output_type": "execute_result",
          "data": {
            "text/plain": [
              "(0.9684466019417476, array([[223,   9],\n",
              "        [  4, 176]]))"
            ]
          },
          "metadata": {
            "tags": []
          },
          "execution_count": 20
        }
      ]
    },
    {
      "cell_type": "code",
      "metadata": {
        "id": "eEI4f2wCu0DD",
        "colab_type": "code",
        "colab": {}
      },
      "source": [
        ""
      ],
      "execution_count": 0,
      "outputs": []
    }
  ]
}